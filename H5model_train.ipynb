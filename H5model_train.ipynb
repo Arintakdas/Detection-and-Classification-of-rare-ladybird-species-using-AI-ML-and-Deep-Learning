{
 "cells": [
  {
   "cell_type": "code",
   "execution_count": null,
   "id": "39f7fac1-ea9a-440f-bebd-9f29a146ed89",
   "metadata": {},
   "outputs": [
    {
     "name": "stdout",
     "output_type": "stream",
     "text": [
      "Found 2256 images belonging to 7 classes.\n",
      "Found 564 images belonging to 7 classes.\n",
      "Starting model training...\n"
     ]
    },
    {
     "name": "stderr",
     "output_type": "stream",
     "text": [
      "C:\\Users\\VICTUS\\anaconda3\\Lib\\site-packages\\keras\\src\\trainers\\data_adapters\\py_dataset_adapter.py:121: UserWarning: Your `PyDataset` class should call `super().__init__(**kwargs)` in its constructor. `**kwargs` can include `workers`, `use_multiprocessing`, `max_queue_size`. Do not pass these arguments to `fit()`, as they will be ignored.\n",
      "  self._warn_if_super_not_called()\n"
     ]
    },
    {
     "name": "stdout",
     "output_type": "stream",
     "text": [
      "Epoch 1/5\n",
      "\u001b[1m53/71\u001b[0m \u001b[32m━━━━━━━━━━━━━━\u001b[0m\u001b[37m━━━━━━\u001b[0m \u001b[1m2:04\u001b[0m 7s/step - accuracy: 0.8791 - loss: 0.3314"
     ]
    }
   ],
   "source": [
    "import os\n",
    "from tensorflow.keras.applications import MobileNetV2\n",
    "from tensorflow.keras.layers import Dense, GlobalAveragePooling2D\n",
    "from tensorflow.keras.models import Model\n",
    "from tensorflow.keras.preprocessing.image import ImageDataGenerator\n",
    "\n",
    "# DELETED THIS LINE to enable the GPU:\n",
    "# os.environ[\"CUDA_VISIBLE_DEVICES\"] = \"-1\" \n",
    "\n",
    "# Load and preprocess data\n",
    "train_path = r\"C:\\Users\\VICTUS\\Desktop\\ladybird_split\\train\"\n",
    "val_path = r\"C:\\Users\\VICTUS\\Desktop\\ladybird_split\\val\"\n",
    "\n",
    "# Use a consistent image size of 224x224\n",
    "TARGET_SIZE = (224, 224)\n",
    "\n",
    "datagen = ImageDataGenerator(rescale=1./255)\n",
    "train_gen = datagen.flow_from_directory(\n",
    "    train_path, \n",
    "    target_size=TARGET_SIZE,  # <-- CHANGED HERE\n",
    "    class_mode='categorical'\n",
    ")\n",
    "val_gen = datagen.flow_from_directory(\n",
    "    val_path, \n",
    "    target_size=TARGET_SIZE,    # <-- CHANGED HERE\n",
    "    class_mode='categorical'\n",
    ")\n",
    "\n",
    "# Build model\n",
    "base_model = MobileNetV2(\n",
    "    weights='imagenet', \n",
    "    include_top=False, \n",
    "    input_shape=(224, 224, 3) # <-- CHANGED HERE\n",
    ")\n",
    "\n",
    "x = GlobalAveragePooling2D()(base_model.output)\n",
    "x = Dense(128, activation='relu')(x)\n",
    "output = Dense(train_gen.num_classes, activation='softmax')(x)\n",
    "\n",
    "model = Model(inputs=base_model.input, outputs=output)\n",
    "model.compile(optimizer='adam', loss='categorical_crossentropy', metrics=['accuracy'])\n",
    "\n",
    "# Train\n",
    "# You should see TensorFlow report that it found your GPU when this script runs\n",
    "print(\"Starting model training...\")\n",
    "model.fit(train_gen, validation_data=val_gen, epochs=5)\n",
    "\n",
    "# Save the model\n",
    "print(\"Saving model...\")\n",
    "model.save(\"ladybird_model.h5\")\n",
    "print(\"Done.\")"
   ]
  },
  {
   "cell_type": "code",
   "execution_count": null,
   "id": "b282b8ff-6cb3-4f03-b878-78661fb9f6a9",
   "metadata": {},
   "outputs": [],
   "source": []
  },
  {
   "cell_type": "code",
   "execution_count": null,
   "id": "126bc456-1da1-4494-9516-1f4b5477da5e",
   "metadata": {},
   "outputs": [],
   "source": []
  }
 ],
 "metadata": {
  "kernelspec": {
   "display_name": "Python 3 (ipykernel)",
   "language": "python",
   "name": "python3"
  },
  "language_info": {
   "codemirror_mode": {
    "name": "ipython",
    "version": 3
   },
   "file_extension": ".py",
   "mimetype": "text/x-python",
   "name": "python",
   "nbconvert_exporter": "python",
   "pygments_lexer": "ipython3",
   "version": "3.12.7"
  }
 },
 "nbformat": 4,
 "nbformat_minor": 5
}
